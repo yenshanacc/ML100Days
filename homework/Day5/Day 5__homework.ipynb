{
 "cells": [
  {
   "cell_type": "markdown",
   "id": "fb21f60a",
   "metadata": {},
   "source": [
    "# [作業目標]\n",
    "\n",
    "1. 產生一個 1-11 的一維陣列，並且把 3-6 由正數變成負數。\n",
    "2. 試著從一個隨機陣列中，找出比 0.5 大的數有幾個？"
   ]
  },
  {
   "cell_type": "markdown",
   "id": "17b29159",
   "metadata": {},
   "source": [
    "# 作業 "
   ]
  },
  {
   "cell_type": "markdown",
   "id": "29b5ae7c",
   "metadata": {},
   "source": [
    "### 1. 產生一個 1-11 的一維陣列，並且把 3-6 由正數變成負數。"
   ]
  },
  {
   "cell_type": "code",
   "execution_count": 23,
   "id": "423baff2",
   "metadata": {},
   "outputs": [
    {
     "name": "stdout",
     "output_type": "stream",
     "text": [
      "[ 1  2 -3 -4 -5 -6  7  8  9 10 11]\n"
     ]
    }
   ],
   "source": [
    "import numpy as np\n",
    "\n",
    "a = np.arange(1, 12)\n",
    "condition = (a >= 3) & (a <= 6)\n",
    "a[condition] *= -1\n",
    "print(a)"
   ]
  },
  {
   "cell_type": "markdown",
   "id": "6c051189",
   "metadata": {},
   "source": [
    "### 2. 試著從一個隨機陣列中，找出比 0.5 大的數有幾個？"
   ]
  },
  {
   "cell_type": "code",
   "execution_count": 29,
   "id": "c55c3dc8",
   "metadata": {},
   "outputs": [
    {
     "name": "stdout",
     "output_type": "stream",
     "text": [
      "array:  [[0.91580939 0.32626221]\n",
      " [0.03550666 0.28115245]\n",
      " [0.03832892 0.37694446]]\n",
      "1\n"
     ]
    }
   ],
   "source": [
    "a = np.random.rand(3, 2)\n",
    "print(\"array: \", a)\n",
    "print(a[a > 0.5].size)"
   ]
  }
 ],
 "metadata": {
  "kernelspec": {
   "display_name": "Python 3",
   "language": "python",
   "name": "python3"
  },
  "language_info": {
   "codemirror_mode": {
    "name": "ipython",
    "version": 3
   },
   "file_extension": ".py",
   "mimetype": "text/x-python",
   "name": "python",
   "nbconvert_exporter": "python",
   "pygments_lexer": "ipython3",
   "version": "3.8.8"
  }
 },
 "nbformat": 4,
 "nbformat_minor": 5
}
