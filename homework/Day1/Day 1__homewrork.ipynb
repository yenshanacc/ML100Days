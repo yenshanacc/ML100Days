{
 "cells": [
  {
   "cell_type": "markdown",
   "id": "70a30365",
   "metadata": {},
   "source": [
    "# [作業目標]\n",
    "\n",
    "1. [簡答題] 請問下列兩種將 Array 轉換成 List 的方式有何不同？\n",
    "\n",
    "```\n",
    "print('list(a): ', list(a))\n",
    "print('tolist(): ', a.tolist())\n",
    "```\n",
    "\n",
    "2. 請試著在程式中印出以下三個 NdArray 的屬性？（屬性：ndim、shape、size、dtype、itemsize、length、type）\n",
    "\n",
    "```\n",
    "a = np.random.randint(10, size=6) \n",
    "b = np.random.randint(10, size=(3,4)) \n",
    "c = np.random.randint(10, size=(2,3,2)) \n",
    "```\n",
    "\n",
    "3. 如何利用 list(...) 實現 a.tolist() 的效果？試著用程式實作。"
   ]
  },
  {
   "cell_type": "markdown",
   "id": "1181a050",
   "metadata": {},
   "source": [
    "# 作業 "
   ]
  },
  {
   "cell_type": "markdown",
   "id": "0fb72867",
   "metadata": {},
   "source": [
    "### 1. [簡答題] 請問下列兩種將 Array 轉換成 List 的方式有何不同？\n",
    "\n",
    "```\n",
    "print('list(a): ', list(a))\n",
    "print('tolist(): ', a.tolist())\n",
    "```"
   ]
  },
  {
   "cell_type": "code",
   "execution_count": 131,
   "id": "f7520447",
   "metadata": {},
   "outputs": [
    {
     "data": {
      "text/plain": [
       "'\\n1. 在一維情況下，兩者沒有區別\\n2. 在二維情況下，list(a) 只會把第一層的元素轉換為 List; tolist() 則可以將多層的 array 都轉換為 List\\n'"
      ]
     },
     "execution_count": 131,
     "metadata": {},
     "output_type": "execute_result"
    }
   ],
   "source": [
    "'''\n",
    "1. 在一維情況下，兩者沒有區別\n",
    "2. 在二維情況下，list(a) 只會把第一層的元素轉換為 List; tolist() 則可以將多層的 array 都轉換為 List\n",
    "'''"
   ]
  },
  {
   "cell_type": "markdown",
   "id": "4e28bc9d",
   "metadata": {},
   "source": [
    "import numpy as np\n",
    "\n",
    "a = np.random.randint(10, size = 6)\n",
    "print(\"list(a): \", list(a))\n",
    "print(\"tolist(): \", a.tolist())\n",
    "\n",
    "b = np.random.randint(10, size = 6).reshape(2, 3)\n",
    "print(\"list(b): \", list(b))\n",
    "print(\"tolist(): \", b.tolist())"
   ]
  },
  {
   "cell_type": "markdown",
   "id": "d4ab5d46",
   "metadata": {},
   "source": [
    "### 2. 請試著在程式中印出以下三個 NdArray 的屬性並且解釋結果？（屬性：ndim、shape、size、dtype、itemsize、length、type）\n",
    "\n",
    "```\n",
    "a = np.random.randint(10, size=6) \n",
    "b = np.random.randint(10, size=(3,4)) \n",
    "c = np.random.randint(10, size=(2,3,2)) \n",
    "```"
   ]
  },
  {
   "cell_type": "code",
   "execution_count": 132,
   "id": "68712f5c",
   "metadata": {},
   "outputs": [
    {
     "name": "stdout",
     "output_type": "stream",
     "text": [
      "[6 1 7 2 1 4]\n",
      "陣列維度:  1\n",
      "每一維度的數量:  (6,)\n",
      "總元素數量:  6\n",
      "陣列中的元素型態: int64\n",
      "每一元素所佔空間[byte]:  8\n",
      "陣列所在位址:  <memory at 0x115034d00>\n"
     ]
    }
   ],
   "source": [
    "import numpy as np\n",
    "\n",
    "a = np.random.randint(10, size=6) \n",
    "\n",
    "print(a)\n",
    "print(\"陣列維度: \", a.ndim)\n",
    "print(\"每一維度的數量: \", a.shape)\n",
    "print(\"總元素數量: \", a.size)\n",
    "print(\"陣列中的元素型態:\", a.dtype)\n",
    "print(\"每一元素所佔空間[byte]: \", a.itemsize)\n",
    "print(\"陣列所在位址: \", a.data)"
   ]
  },
  {
   "cell_type": "code",
   "execution_count": 133,
   "id": "664f7ac7",
   "metadata": {},
   "outputs": [
    {
     "name": "stdout",
     "output_type": "stream",
     "text": [
      "[[5 9 5 1]\n",
      " [8 2 3 7]\n",
      " [3 5 5 6]]\n",
      "陣列維度:  2\n",
      "每一維度的數量:  (3, 4)\n",
      "總元素數量:  12\n",
      "陣列中的元素型態: int64\n",
      "每一元素所佔空間[byte]:  8\n",
      "陣列所在位址:  <memory at 0x110882c70>\n"
     ]
    }
   ],
   "source": [
    "b = np.random.randint(10, size=(3,4)) \n",
    "\n",
    "print(b)\n",
    "print(\"陣列維度: \", b.ndim)\n",
    "print(\"每一維度的數量: \", b.shape)\n",
    "print(\"總元素數量: \", b.size)\n",
    "print(\"陣列中的元素型態:\", b.dtype)\n",
    "print(\"每一元素所佔空間[byte]: \", b.itemsize)\n",
    "print(\"陣列所在位址: \", b.data)"
   ]
  },
  {
   "cell_type": "code",
   "execution_count": 134,
   "id": "33dc2278",
   "metadata": {},
   "outputs": [
    {
     "name": "stdout",
     "output_type": "stream",
     "text": [
      "[[[7 6]\n",
      "  [5 9]\n",
      "  [5 0]]\n",
      "\n",
      " [[1 1]\n",
      "  [2 3]\n",
      "  [2 0]]]\n",
      "陣列維度:  3\n",
      "每一維度的數量:  (2, 3, 2)\n",
      "總元素數量:  12\n",
      "陣列中的元素型態: int64\n",
      "每一元素所佔空間[byte]:  8\n",
      "陣列所在位址:  <memory at 0x115032220>\n"
     ]
    }
   ],
   "source": [
    "c = np.random.randint(10, size=(2,3,2)) \n",
    "\n",
    "print(c)\n",
    "print(\"陣列維度: \", c.ndim)\n",
    "print(\"每一維度的數量: \", c.shape)\n",
    "print(\"總元素數量: \", c.size)\n",
    "print(\"陣列中的元素型態:\", c.dtype)\n",
    "print(\"每一元素所佔空間[byte]: \", c.itemsize)\n",
    "print(\"陣列所在位址: \", c.data)"
   ]
  },
  {
   "cell_type": "markdown",
   "id": "f7466de0",
   "metadata": {},
   "source": [
    "### 3. 如何利用 list(...) 實現 a.tolist() 的效果？試著用程式實作。"
   ]
  },
  {
   "cell_type": "code",
   "execution_count": 138,
   "id": "ddf4bb8f",
   "metadata": {},
   "outputs": [
    {
     "name": "stdout",
     "output_type": "stream",
     "text": [
      "[6, 1, 7, 2, 1, 4]\n",
      "[[5, 9, 5, 1], [8, 2, 3, 7], [3, 5, 5, 6]]\n",
      "[[[7, 6], [5, 9], [5, 0]], [[1, 1], [2, 3], [2, 0]]]\n"
     ]
    }
   ],
   "source": [
    "def tolist(data):\n",
    "    if type(data) != np.ndarray:\n",
    "        return data\n",
    "    return [tolist(item) for item in data]\n",
    "\n",
    "print(tolist(a))\n",
    "print(tolist(b))\n",
    "print(tolist(c))"
   ]
  },
  {
   "cell_type": "code",
   "execution_count": 157,
   "id": "4b3dd815",
   "metadata": {},
   "outputs": [
    {
     "name": "stdout",
     "output_type": "stream",
     "text": [
      "[6, 1, 7, 2, 1, 4]\n",
      "[[5, 9, 5, 1], [8, 2, 3, 7], [3, 5, 5, 6]]\n",
      "[[[7, 6], [5, 9], [5, 0]], [[1, 1], [2, 3], [2, 0]]]\n"
     ]
    }
   ],
   "source": [
    "def tolist(data):\n",
    "    if type(data) != np.ndarray:\n",
    "        return data\n",
    "    newlist = []\n",
    "    for item in data:\n",
    "        newlist.append(tolist(item))\n",
    "    return tolist(newlist)\n",
    "   \n",
    "print(tolist(a))\n",
    "print(tolist(b))\n",
    "print(tolist(c))   "
   ]
  },
  {
   "cell_type": "code",
   "execution_count": null,
   "id": "a71ce8f0",
   "metadata": {},
   "outputs": [],
   "source": []
  }
 ],
 "metadata": {
  "kernelspec": {
   "display_name": "Python 3",
   "language": "python",
   "name": "python3"
  },
  "language_info": {
   "codemirror_mode": {
    "name": "ipython",
    "version": 3
   },
   "file_extension": ".py",
   "mimetype": "text/x-python",
   "name": "python",
   "nbconvert_exporter": "python",
   "pygments_lexer": "ipython3",
   "version": "3.8.8"
  }
 },
 "nbformat": 4,
 "nbformat_minor": 5
}
