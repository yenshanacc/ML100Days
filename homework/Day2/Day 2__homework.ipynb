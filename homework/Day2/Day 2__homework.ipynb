{
 "cells": [
  {
   "cell_type": "markdown",
   "id": "051fe6dc",
   "metadata": {},
   "source": [
    "# [作業目標]\n",
    "\n",
    "1. [簡答題] 請問 type(...) 跟 a.dtype 這兩個語法有什麼不同？\n",
    "\n",
    "```\n",
    "print('type(a): ', type(a))\n",
    "print('a.dtype: ', a.dtype)\n",
    "```\n",
    "\n",
    "2. 請撰寫一個判斷 a 的元素是否等於指定資料型態的函式\n",
    "\n",
    "3. [簡答題] 承上題，請判斷下列三種寫法為何不正確？\n",
    "\n",
    "```\n",
    "def is_dtype(a, t):\n",
    "    return a.dtype is t\n",
    "\n",
    "def is_dtype(a, t):\n",
    "    return type(a) == np.dtype(t)\n",
    "\n",
    "def is_dtype(a, t):\n",
    "    return type(a) is np.dtype(t)\n",
    "```"
   ]
  },
  {
   "cell_type": "markdown",
   "id": "96a5b1e6",
   "metadata": {},
   "source": [
    "# 作業"
   ]
  },
  {
   "cell_type": "markdown",
   "id": "15c83eb9",
   "metadata": {},
   "source": [
    "### 1. [簡答題] 請問 type(...) 跟 a.dtype 這兩個語法有什麼不同？\n",
    "\n",
    "```\n",
    "print('type(a): ', type(a))\n",
    "print('a.dtype: ', a.dtype)\n",
    "```"
   ]
  },
  {
   "cell_type": "code",
   "execution_count": 5,
   "id": "4c32038f",
   "metadata": {},
   "outputs": [
    {
     "name": "stdout",
     "output_type": "stream",
     "text": [
      "type(a):  <class 'numpy.ndarray'>\n",
      "a.dtype:  int64\n"
     ]
    }
   ],
   "source": [
    "import numpy as np\n",
    "a = np.arange(15).reshape(3, 5)\n",
    "print('type(a): ', type(a))\n",
    "print('a.dtype: ', a.dtype)"
   ]
  },
  {
   "cell_type": "code",
   "execution_count": null,
   "id": "f1434e39",
   "metadata": {},
   "outputs": [],
   "source": [
    "'''\n",
    "type(a) 會回傳變數的型態,\n",
    "a.dtype 會回傳array內元素的型態\n",
    "'''"
   ]
  },
  {
   "cell_type": "markdown",
   "id": "7e486aec",
   "metadata": {},
   "source": [
    "### 2. 請撰寫一個判斷 a 的元素是否等於指定資料型態的函式，並且通過測試。"
   ]
  },
  {
   "cell_type": "code",
   "execution_count": 17,
   "id": "d10084cd",
   "metadata": {},
   "outputs": [
    {
     "name": "stdout",
     "output_type": "stream",
     "text": [
      "np.dtype(t):  int64\n",
      "result:  True\n",
      "np.dtype(t):  int64\n",
      "result:  True\n",
      "np.dtype(t):  int64\n",
      "result:  True\n"
     ]
    }
   ],
   "source": [
    "a = np.random.randint(10, size=6) \n",
    "def is_dtype(a, t):\n",
    "    print(\"np.dtype(t): \", np.dtype(t))\n",
    "    return a.dtype is np.dtype(t) # 使用 is 的話必須要跟 np.dtype 物件來相比\n",
    "\n",
    "print(\"result: \", is_dtype(a, 'int')) # True\n",
    "print(\"result: \", is_dtype(a, np.int_)) # True (np.int 會出現\"不推薦使用內置類型 np.int 的別名\"的訊息)\n",
    "print(\"result: \", is_dtype(a, np.dtype('int'))) # True"
   ]
  },
  {
   "cell_type": "markdown",
   "id": "f6a08ebb",
   "metadata": {},
   "source": [
    "### 3. [簡答題] 承上題，請判斷下列三種寫法為何不正確？\n",
    "\n",
    "```\n",
    "def is_dtype(a, t):\n",
    "    return a.dtype is t\n",
    "\n",
    "def is_dtype(a, t):\n",
    "    return type(a) == np.dtype(t)\n",
    "\n",
    "def is_dtype(a, t):\n",
    "    return type(a) is np.dtype(t)\n",
    "```"
   ]
  },
  {
   "cell_type": "code",
   "execution_count": null,
   "id": "544cea77",
   "metadata": {},
   "outputs": [],
   "source": [
    "'''\n",
    "1. is 相對 == 更嚴格，一定要型態正確才會回傳 True\n",
    "2. type 是回傳變數型態，而不是 array內的元素型態\n",
    "'''"
   ]
  }
 ],
 "metadata": {
  "kernelspec": {
   "display_name": "Python 3",
   "language": "python",
   "name": "python3"
  },
  "language_info": {
   "codemirror_mode": {
    "name": "ipython",
    "version": 3
   },
   "file_extension": ".py",
   "mimetype": "text/x-python",
   "name": "python",
   "nbconvert_exporter": "python",
   "pygments_lexer": "ipython3",
   "version": "3.8.8"
  }
 },
 "nbformat": 4,
 "nbformat_minor": 5
}
