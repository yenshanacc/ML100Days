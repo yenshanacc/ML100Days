{
 "cells": [
  {
   "cell_type": "code",
   "execution_count": 4,
   "id": "820d3498",
   "metadata": {},
   "outputs": [
    {
     "name": "stdout",
     "output_type": "stream",
     "text": [
      "[10 21 32 43]\n",
      "[  0  20  60 120]\n"
     ]
    }
   ],
   "source": [
    "# 相同大小的陣列運算\n",
    "import numpy as np\n",
    "\n",
    "a = np.array([ 10, 20, 30, 40])\n",
    "b = np.arange(4)\n",
    "\n",
    "print(a + b)\n",
    "print(a * b)"
   ]
  },
  {
   "cell_type": "code",
   "execution_count": 5,
   "id": "50aa94eb",
   "metadata": {},
   "outputs": [
    {
     "name": "stdout",
     "output_type": "stream",
     "text": [
      "[10 20 30 40]\n",
      "[2. 3. 4. 5.]\n"
     ]
    }
   ],
   "source": [
    "# 常數與陣列運算\n",
    "a = np.array([ 20, 30, 40, 50])\n",
    "\n",
    "print(a - 10)\n",
    "print(a / 10)"
   ]
  },
  {
   "cell_type": "code",
   "execution_count": 6,
   "id": "1cd37366",
   "metadata": {},
   "outputs": [
    {
     "name": "stdout",
     "output_type": "stream",
     "text": [
      "[[2 3]\n",
      " [4 5]\n",
      " [6 7]]\n"
     ]
    }
   ],
   "source": [
    "# 不同大小的陣列運算\n",
    "data = np.array([[1, 2], [3, 4], [5, 6]])\n",
    "ones_row = np.array([1, 1])\n",
    "\n",
    "print(data + ones_row)"
   ]
  },
  {
   "cell_type": "code",
   "execution_count": 8,
   "id": "047f67d3",
   "metadata": {},
   "outputs": [
    {
     "name": "stdout",
     "output_type": "stream",
     "text": [
      "[21 31 41 51]\n",
      "[21, 31, 41, 51]\n"
     ]
    }
   ],
   "source": [
    "# 陣列運算與容器運算的差異\n",
    "# numpy的陣列運算\n",
    "a = np.array([20, 30, 40, 50])\n",
    "print(a + 1)\n",
    "\n",
    "# python的list運算\n",
    "a = [20, 30, 40, 50]\n",
    "b = []\n",
    "\n",
    "for item in a:\n",
    "    b.append(item + 1)\n",
    "print(b)\n"
   ]
  },
  {
   "cell_type": "code",
   "execution_count": 12,
   "id": "2be4e95f",
   "metadata": {},
   "outputs": [
    {
     "name": "stdout",
     "output_type": "stream",
     "text": [
      "[[1. 2.]\n",
      " [3. 4.]]\n",
      "[[5.]\n",
      " [7.]]\n"
     ]
    }
   ],
   "source": [
    "# 用於陣列的矩陣運算\n",
    "a = np.array([[1.0, 2.0], [3.0, 4.0]])\n",
    "print(a)\n",
    "y = np.array([[5.], [7.]])\n",
    "print(y)"
   ]
  },
  {
   "cell_type": "code",
   "execution_count": 13,
   "id": "5309939a",
   "metadata": {},
   "outputs": [
    {
     "name": "stdout",
     "output_type": "stream",
     "text": [
      "[[1. 3.]\n",
      " [2. 4.]]\n",
      "[[-2.   1. ]\n",
      " [ 1.5 -0.5]]\n",
      "5.0\n",
      "[[-3.]\n",
      " [ 4.]]\n"
     ]
    }
   ],
   "source": [
    "# 轉置 array\n",
    "print(a.transpose())\n",
    "# 轉為 逆矩陣\n",
    "print(np.linalg.inv(a))\n",
    "# 返回 延數組對角線之和\n",
    "print(np.trace(a))\n",
    "# 以矩陣形式解線性矩陣方程\n",
    "print(np.linalg.solve(a, y))"
   ]
  }
 ],
 "metadata": {
  "kernelspec": {
   "display_name": "Python 3",
   "language": "python",
   "name": "python3"
  },
  "language_info": {
   "codemirror_mode": {
    "name": "ipython",
    "version": 3
   },
   "file_extension": ".py",
   "mimetype": "text/x-python",
   "name": "python",
   "nbconvert_exporter": "python",
   "pygments_lexer": "ipython3",
   "version": "3.8.8"
  }
 },
 "nbformat": 4,
 "nbformat_minor": 5
}
