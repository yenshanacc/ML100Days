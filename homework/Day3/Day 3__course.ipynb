{
 "cells": [
  {
   "cell_type": "code",
   "execution_count": 40,
   "id": "97ffd527",
   "metadata": {},
   "outputs": [
    {
     "name": "stdout",
     "output_type": "stream",
     "text": [
      "[1 2 3]\n",
      "[1.+0.j 2.+0.j 3.+0.j]\n"
     ]
    }
   ],
   "source": [
    "import numpy as np\n",
    "\n",
    "print(np.array([1, 2, 3]) )\n",
    "# 指定特定型態\n",
    "print(np.array([1, 2, 3], dtype = complex) )"
   ]
  },
  {
   "cell_type": "code",
   "execution_count": 41,
   "id": "1f2ccc74",
   "metadata": {},
   "outputs": [
    {
     "name": "stdout",
     "output_type": "stream",
     "text": [
      "{0: 123, 1: 456}\n",
      "1\n",
      "[[  0 123]\n",
      " [  1 456]]\n"
     ]
    }
   ],
   "source": [
    "# 字典型態被轉成陣列會不符合期待\n",
    "print(np.array({0: 123, 1:456}))\n",
    "print(np.array({0: 123, 1:456}).size)\n",
    "\n",
    "# 先轉成有序的 List 再作轉換\n",
    "print(np.array(list({0: 123, 1: 456}.items())) )"
   ]
  },
  {
   "cell_type": "code",
   "execution_count": 11,
   "id": "10110388",
   "metadata": {},
   "outputs": [
    {
     "name": "stdout",
     "output_type": "stream",
     "text": [
      "[[0. 0. 0.]\n",
      " [0. 0. 0.]]\n",
      "[[0. 0. 0.]\n",
      " [0. 0. 0.]]\n",
      "[[1. 1. 1.]\n",
      " [1. 1. 1.]]\n",
      "[[9 9 9]\n",
      " [9 9 9]]\n"
     ]
    }
   ],
   "source": [
    "#從固定大小的初始值開始\n",
    "\n",
    "# 建立由 0 組成的 2x3 陣列\n",
    "print(np.zeros((2, 3)) ) # 產生真正的 0 \n",
    "print(np.empty((2, 3)) ) # 很小、接近0的數字\n",
    "\n",
    "# 建立由 1 組成的 2x3 陣列\n",
    "print(np.ones((2, 3)) )\n",
    "\n",
    "# 建立由 9 組成的 2x3陣列\n",
    "print(np.full((2,3), 9) )"
   ]
  },
  {
   "cell_type": "code",
   "execution_count": 21,
   "id": "44f21ef7",
   "metadata": {},
   "outputs": [
    {
     "name": "stdout",
     "output_type": "stream",
     "text": [
      "[10 15 20 25]\n",
      "(array([0., 1., 2.]), 1.0)\n",
      "[   2.    4.    8.   16.   32.   64.  128.  256.  512. 1024.]\n"
     ]
    }
   ],
   "source": [
    "# 等差序列 不包含結尾\n",
    "print(np.arange(10, 30, 5) ) \n",
    "\n",
    "# 等差序列 起點為0 終點為2 包含3個元素 終止點<2  會回傳公差\n",
    "print(np.linspace(0, 3, 3, endpoint=False, retstep=True) )\n",
    "\n",
    "# 等比數列  初始指數  終止點的指數 元素數量 底數\n",
    "print(np.logspace(1, 10, 10, base=2))"
   ]
  },
  {
   "cell_type": "code",
   "execution_count": 28,
   "id": "a3434775",
   "metadata": {},
   "outputs": [
    {
     "name": "stdout",
     "output_type": "stream",
     "text": [
      "[[-0.74105609  1.24842156]\n",
      " [-0.95160576  0.65146132]\n",
      " [ 0.68951002  1.82891069]]\n",
      "[[0.13303777 0.79361488]\n",
      " [0.71569164 0.77416063]\n",
      " [0.68490507 0.63755883]]\n",
      "[[6 7]\n",
      " [3 0]\n",
      " [5 4]]\n"
     ]
    }
   ],
   "source": [
    "# 產生固定大小的亂數(新版)\n",
    "from numpy.random import default_rng\n",
    "rng = default_rng()\n",
    "\n",
    "# 常態分佈\n",
    "normal = rng.standard_normal((3, 2))\n",
    "print(normal)\n",
    "# 隨機分佈\n",
    "random = rng.random((3, 2))\n",
    "print(random)\n",
    "# 整數亂數\n",
    "integers = rng.integers(0, 10, size=(3, 2))\n",
    "print(integers)"
   ]
  },
  {
   "cell_type": "code",
   "execution_count": 45,
   "id": "0b8cc950",
   "metadata": {},
   "outputs": [
    {
     "name": "stdout",
     "output_type": "stream",
     "text": [
      "[[ 1.00353026  0.952674  ]\n",
      " [ 0.62638316 -0.09557432]\n",
      " [-0.53029862 -0.14074215]]\n",
      "[[0.3746549  0.02716831]\n",
      " [0.1997845  0.57681771]\n",
      " [0.13711958 0.68130319]]\n",
      "[[6 9]\n",
      " [3 3]\n",
      " [7 9]]\n"
     ]
    }
   ],
   "source": [
    "# 產生固定大小的亂數(舊版, 在 numpy.random 下使用)\n",
    "\n",
    "# 常態分佈\n",
    "normal = np.random.randn(3, 2)\n",
    "print(normal)\n",
    "# 隨機分佈\n",
    "random = np.random.random((3, 2))\n",
    "print(random)\n",
    "# 整數亂數\n",
    "integers = np.random.randint(0, 10, size=(3, 2))\n",
    "print(integers)"
   ]
  }
 ],
 "metadata": {
  "kernelspec": {
   "display_name": "Python 3",
   "language": "python",
   "name": "python3"
  },
  "language_info": {
   "codemirror_mode": {
    "name": "ipython",
    "version": 3
   },
   "file_extension": ".py",
   "mimetype": "text/x-python",
   "name": "python",
   "nbconvert_exporter": "python",
   "pygments_lexer": "ipython3",
   "version": "3.8.8"
  }
 },
 "nbformat": 4,
 "nbformat_minor": 5
}
