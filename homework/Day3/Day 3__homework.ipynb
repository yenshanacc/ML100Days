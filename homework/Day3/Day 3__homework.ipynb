{
 "cells": [
  {
   "cell_type": "markdown",
   "id": "24bc1028",
   "metadata": {},
   "source": [
    "# [作業目標]\n",
    "\n",
    "1. [簡答題] 請比較 np.zeros 和 np.empty 產生出來的陣列有何差異？為什麼要設計兩種方法？\n",
    "\n",
    "```\n",
    "print(np.zeros((2, 3)))\n",
    "print(np.empty((2, 3)))\n",
    "```\n",
    "\n",
    "2. 在不用「整數亂數方法」的限制下，如何將包含小數的轉換整數？請將給定的 a 陣列當中的元素變成去掉小數變成整數。\n",
    "3. 承上題，怎樣可以限制整數的範圍介於 m - n 之間？請將給定的 a 陣列當中的元素的範圍調整成 m - n 之間。"
   ]
  },
  {
   "cell_type": "markdown",
   "id": "cd6e4c3c",
   "metadata": {},
   "source": [
    "# 作業 "
   ]
  },
  {
   "cell_type": "markdown",
   "id": "4d7e68fd",
   "metadata": {},
   "source": [
    "### 1. [簡答題] 請比較 np.zeros 和 np.empty 產生出來的陣列有何差異？為什麼要設計兩種方法？\n",
    "\n",
    "```\n",
    "print(np.zeros((2, 3)))\n",
    "print(np.empty((2, 3)))\n",
    "```"
   ]
  },
  {
   "cell_type": "code",
   "execution_count": null,
   "id": "b1cf100d",
   "metadata": {},
   "outputs": [],
   "source": [
    "'''\n",
    "差別:\n",
    "(1) np.zeros: 產生的每個元素為真實的 0\n",
    "(2) np.empty: 產生的每個元素不為真實的 0, 僅是很接近0的很小的數\n",
    "\n",
    "設計原因:\n",
    "當有時只想初始化陣列、不在意內容，使用empty能更快速產生所需要的陣列\n",
    "'''"
   ]
  },
  {
   "cell_type": "markdown",
   "id": "bc6a6ad4",
   "metadata": {},
   "source": [
    "### 2. 在不用「整數亂數方法」的限制下，如何將包含小數的轉換整數？請將給定的 a 陣列當中的元素變成去掉小數變成整數。"
   ]
  },
  {
   "cell_type": "code",
   "execution_count": 32,
   "id": "31fb6dfa",
   "metadata": {},
   "outputs": [
    {
     "name": "stdout",
     "output_type": "stream",
     "text": [
      "未去掉小數前:\n",
      " [[90.64798243 54.32390231 68.52767647]\n",
      " [25.2379582   1.16370638 69.3122572 ]]\n",
      "\n",
      "去掉小數後:\n",
      " [[90. 54. 68.]\n",
      " [25.  1. 69.]]\n"
     ]
    },
    {
     "data": {
      "text/plain": [
       "array([[90., 54., 68.],\n",
       "       [25.,  1., 69.]])"
      ]
     },
     "execution_count": 32,
     "metadata": {},
     "output_type": "execute_result"
    }
   ],
   "source": [
    "import numpy as np\n",
    "\n",
    "a = np.random.rand(2, 3)\n",
    "a *= 100\n",
    "print('未去掉小數前:\\n', a)\n",
    "\n",
    "a = np.floor(a) #取不大於該數的最大整數\n",
    "print(\"\\n去掉小數後:\\n\", a)\n",
    "\n",
    "a = np.round(a) #四捨五入\n",
    "a.round()\n"
   ]
  },
  {
   "cell_type": "markdown",
   "id": "136459ca",
   "metadata": {},
   "source": [
    "### 3. 承上題，怎樣可以限制整數的範圍介於 m - n 之間？請將給定的 a 陣列當中的元素的範圍調整成 m - n 之間。"
   ]
  },
  {
   "cell_type": "code",
   "execution_count": 120,
   "id": "a77e0cca",
   "metadata": {},
   "outputs": [
    {
     "name": "stdout",
     "output_type": "stream",
     "text": [
      "a:\n",
      " [[15.45193622  0.05940228 15.8404463 ]\n",
      " [ 3.81912583  0.86225634  4.29399452]]\n",
      "b:\n",
      " [[15.  0. 15.]\n",
      " [ 3.  0.  4.]]\n",
      "結果:\n",
      " [[35. 20. 35.]\n",
      " [23. 20. 24.]]\n",
      "===============================================\n",
      "a:\n",
      " [[ 9.54487414 13.38483704 13.63328196]\n",
      " [ 5.52003577 12.1567403   9.89375412]]\n",
      "b:\n",
      " [[ 9. 13. 13.]\n",
      " [ 5. 12.  9.]]\n",
      "結果:\n",
      " [[29. 33. 33.]\n",
      " [25. 32. 29.]]\n",
      "===============================================\n",
      "額外:\n",
      " [[37 31 35]\n",
      " [38 36 39]]\n"
     ]
    }
   ],
   "source": [
    "m = 20\n",
    "n = 40\n",
    "\n",
    "##### 解一\n",
    "a = np.random.rand(2, 3) * (n - m)\n",
    "print(\"a:\\n\", a) \n",
    "b = np.floor(a)\n",
    "print(\"b:\\n\", b) \n",
    "print(\"結果:\\n\", b + m)\n",
    "print(\"===============================================\")\n",
    "\n",
    "##### 解二\n",
    "a = np.random.rand(2, 3) * (n - m)\n",
    "print(\"a:\\n\", a) \n",
    "b = a\n",
    "c = (a - b % 1)\n",
    "print(\"b:\\n\", c) \n",
    "print(\"結果:\\n\", c + m)\n",
    "print(\"===============================================\")\n",
    "\n",
    "# 如果a陣列沒有指定, 可以直接使用 random.randint 限制範圍\n",
    "arr = np.random.randint(low = m, high = n+1, size = (2, 3))\n",
    "print(\"額外:\\n\", arr)"
   ]
  },
  {
   "cell_type": "code",
   "execution_count": null,
   "id": "048c4cfa",
   "metadata": {},
   "outputs": [],
   "source": []
  }
 ],
 "metadata": {
  "kernelspec": {
   "display_name": "Python 3",
   "language": "python",
   "name": "python3"
  },
  "language_info": {
   "codemirror_mode": {
    "name": "ipython",
    "version": 3
   },
   "file_extension": ".py",
   "mimetype": "text/x-python",
   "name": "python",
   "nbconvert_exporter": "python",
   "pygments_lexer": "ipython3",
   "version": "3.8.8"
  }
 },
 "nbformat": 4,
 "nbformat_minor": 5
}
